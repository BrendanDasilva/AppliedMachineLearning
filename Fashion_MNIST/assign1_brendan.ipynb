{
  "nbformat": 4,
  "nbformat_minor": 0,
  "metadata": {
    "colab": {
      "provenance": [],
      "gpuType": "T4"
    },
    "kernelspec": {
      "name": "python3",
      "display_name": "Python 3"
    },
    "language_info": {
      "name": "python"
    },
    "accelerator": "GPU"
  },
  "cells": [
    {
      "cell_type": "markdown",
      "source": [
        "# Assignment 1 --- Brendan Dasilva --- 101447806"
      ],
      "metadata": {
        "id": "INA6MNFCTgIm"
      }
    },
    {
      "cell_type": "code",
      "source": [
        "# import the dataset\n",
        "from keras.datasets import fashion_mnist\n",
        "import matplotlib.pyplot as plt # import for displaying images"
      ],
      "metadata": {
        "id": "uHtTgdxiTL9o"
      },
      "execution_count": 28,
      "outputs": []
    },
    {
      "cell_type": "code",
      "source": [
        "# loading the dataset\n",
        "(train_images, train_labels), (test_images, test_labels) = fashion_mnist.load_data()"
      ],
      "metadata": {
        "id": "tOHwPyuuTMFe"
      },
      "execution_count": 29,
      "outputs": []
    },
    {
      "cell_type": "markdown",
      "source": [
        "## 1.\tWhat are the dimensions of train_images, train_labels, test_images, and test_labels?"
      ],
      "metadata": {
        "id": "sioQ-4ZCUe79"
      }
    },
    {
      "cell_type": "code",
      "source": [
        "# dimensions of the datasets\n",
        "print(\"Dimensions of train_images:\", train_images.ndim)\n",
        "print(\"Dimensions of train_images:\", train_images.shape, \"\\n\")\n",
        "\n",
        "print(\"Dimensions of train_labels:\", train_labels.ndim)\n",
        "print(\"Dimensions of train_images:\", train_labels.shape, \"\\n\")\n",
        "\n",
        "print(\"Dimensions of test_images:\", test_images.ndim)\n",
        "print(\"Dimensions of train_images:\", test_images.shape, \"\\n\")\n",
        "\n",
        "print(\"Dimensions of test_labels:\", test_labels.ndim)\n",
        "print(\"Dimensions of train_images:\", test_labels.shape, \"\\n\")\n",
        "\n",
        "# train_images and test_images are 3d arrays (60,000, 28, 28):\n",
        "# the collection contains 60,000 in train_images and 10,000 test_images\n",
        "# each image in the dataset is a 2D array of 28x28 pixels\n",
        "\n",
        "# train_labels and test_labels are 1d arrays (60000, ):\n",
        "# the arrays contain labels for the corresponding images\n",
        "# each label is a single number (0-9 representing the clothing items)\n"
      ],
      "metadata": {
        "id": "OdYtaINoTMMS",
        "colab": {
          "base_uri": "https://localhost:8080/"
        },
        "outputId": "e6f20e2a-d4a5-45d8-f490-416d7f6207db"
      },
      "execution_count": 30,
      "outputs": [
        {
          "output_type": "stream",
          "name": "stdout",
          "text": [
            "Dimensions of train_images: 3\n",
            "Dimensions of train_images: (60000, 28, 28) \n",
            "\n",
            "Dimensions of train_labels: 1\n",
            "Dimensions of train_images: (60000,) \n",
            "\n",
            "Dimensions of test_images: 3\n",
            "Dimensions of train_images: (10000, 28, 28) \n",
            "\n",
            "Dimensions of test_labels: 1\n",
            "Dimensions of train_images: (10000,) \n",
            "\n"
          ]
        }
      ]
    },
    {
      "cell_type": "markdown",
      "source": [
        "## 2. What are the lengths of train_labels and test_labels?"
      ],
      "metadata": {
        "id": "3o4bJYKcm49B"
      }
    },
    {
      "cell_type": "code",
      "source": [
        "length_train_labels = len(train_labels)\n",
        "length_test_labels = len(test_labels)\n",
        "\n",
        "print(\"Length of train_labels:\", length_train_labels)\n",
        "print(\"Length of test_labels:\", length_test_labels)"
      ],
      "metadata": {
        "colab": {
          "base_uri": "https://localhost:8080/"
        },
        "id": "GB5xX82Tm8RA",
        "outputId": "701ed56c-7af1-4314-9a49-7faef51d6d58"
      },
      "execution_count": 31,
      "outputs": [
        {
          "output_type": "stream",
          "name": "stdout",
          "text": [
            "Length of train_labels: 60000\n",
            "Length of test_labels: 10000\n"
          ]
        }
      ]
    },
    {
      "cell_type": "markdown",
      "source": [
        "## 3.\tPlease show some of the train and test labels.\n",
        "####The class labels are:\n",
        "#####0.\tT-shirt/top\n",
        "#####1.\tTrouser\n",
        "#####2.\tPullover\n",
        "#####3.\tDress\n",
        "#####4.\tCoat\n",
        "#####5.\tSandal\n",
        "#####6.\tShirt\n",
        "#####7.\tSneaker\n",
        "#####8.\tBag\n",
        "#####9.\tAnkle boot\n"
      ],
      "metadata": {
        "id": "7XGxHyG0sVlM"
      }
    },
    {
      "cell_type": "code",
      "source": [
        "# printing the first 10 labels for the train and test sets\n",
        "print(train_labels[:10])\n",
        "print(test_labels[:10])"
      ],
      "metadata": {
        "colab": {
          "base_uri": "https://localhost:8080/"
        },
        "id": "AcFgxIX5sZt1",
        "outputId": "3931837a-aec2-4634-c92b-334c8ed85b67"
      },
      "execution_count": 32,
      "outputs": [
        {
          "output_type": "stream",
          "name": "stdout",
          "text": [
            "[9 0 0 3 0 2 7 2 5 5]\n",
            "[9 2 1 1 6 1 4 6 5 7]\n"
          ]
        }
      ]
    },
    {
      "cell_type": "markdown",
      "source": [
        "## 4.\tPlease show the digital content of image index 5 in the training dataset."
      ],
      "metadata": {
        "id": "epZ4V3voulyT"
      }
    },
    {
      "cell_type": "code",
      "source": [
        "print(train_images[5])\n",
        "# this shows the numerical pixel values\n",
        "# and is a 2d numpy array of the shape (28 x 28)\n",
        "print(\"\\n\\n\", train_images[5].shape)"
      ],
      "metadata": {
        "colab": {
          "base_uri": "https://localhost:8080/"
        },
        "id": "wx1Ac_adumNC",
        "outputId": "69318a41-f4fc-4f71-8f00-db6a5737dc61"
      },
      "execution_count": 33,
      "outputs": [
        {
          "output_type": "stream",
          "name": "stdout",
          "text": [
            "[[  0   0   0   0   1   0   0   0   0  22  88 188 172 132 125 141 199 143\n",
            "    9   0   0   0   1   0   0   0   0   0]\n",
            " [  0   0   0   1   0   0  20 131 199 206 196 202 242 255 255 250 222 197\n",
            "  206 188 126  17   0   0   0   0   0   0]\n",
            " [  0   0   0   1   0  35 214 191 183 178 175 168 150 162 159 152 158 179\n",
            "  183 189 195 185  82   0   0   0   0   0]\n",
            " [  0   0   0   0   0 170 190 172 177 176 171 169 162 155 148 154 169 174\n",
            "  175 175 177 183 188  12   0   0   0   0]\n",
            " [  0   0   0   0  25 194 180 178 174 184 187 189 187 184 181 189 200 197\n",
            "  193 190 178 175 194  90   0   0   0   0]\n",
            " [  0   0   0   0  42 218 191 197 208 204 211 209 210 212 211 214 215 213\n",
            "  214 211 211 191 200 158   0   0   0   0]\n",
            " [  0   0   0   0  88 221 215 217 219 211 185 150 118 107  99  88  83  90\n",
            "  135 212 203 207 219 169   0   0   0   0]\n",
            " [  0   0   0   0   0  27 118 162  40   0   0   0  10  19  28  39  47  36\n",
            "    0   0 203 230 220 203   0   0   0   0]\n",
            " [  0   0   0   0 138 136  71  69  54 216 217 203 184 168 163 162 163 178\n",
            "  221 186  38  26   7   0   0   0   0   0]\n",
            " [  0   0   0   0  67 134 154 224 129  66  81 117 129 128 132 137 131 129\n",
            "   86  73 157 151 134 216  18   0   0   0]\n",
            " [  0   0   0   0 203 198 172 183 206 255 255 250 243 240 239 235 238 244\n",
            "  255 238 184 160  86  98   0   0   0   0]\n",
            " [  0   0   0   0 122 188 224 151 105 127  97 100 105 114 117 117 113 103\n",
            "   98 111 142 254 191 255  49   0   0   0]\n",
            " [  0   0   0   0 163 179 200  95 154 198 197 200 200 198 197 198 199 202\n",
            "  200 176  86 206 157 162  10   0   0   0]\n",
            " [  0   0   0   0 197 201 229  71 144 194 181 183 179 182 180 179 180 190\n",
            "  185 197  76 219 185 201  34   0   0   0]\n",
            " [  0   0   0   0 199 193 226  58 154 192 184 187 184 186 184 185 183 192\n",
            "  191 200  56 219 203 207  60   0   0   0]\n",
            " [  0   0   0   0 201 194 224  41 163 190 186 186 184 185 183 185 178 190\n",
            "  194 202  33 211 200 206  73   0   0   0]\n",
            " [  0   0   0   0 201 197 222  17 172 190 186 187 182 186 185 187 180 187\n",
            "  193 202  26 212 202 203  76   0   0   0]\n",
            " [  0   0   0   0 200 197 223   0 177 189 184 185 178 184 183 184 180 183\n",
            "  189 203  35 196 203 203  84   0   0   0]\n",
            " [  0   0   0   0 200 197 223   0 185 187 185 187 180 184 182 183 178 182\n",
            "  183 205  44 159 207 201  85   0   0   0]\n",
            " [  0   0   0   0 187 198 225   0 194 188 184 185 180 183 183 184 181 181\n",
            "  177 206  46 129 211 200  88   0   0   0]\n",
            " [  0   0   0   6 186 200 211   0 199 189 184 184 185 182 183 184 185 182\n",
            "  175 205  50  97 216 197  93   0   0   0]\n",
            " [  0   0   0   5 185 204 184   0 202 188 182 182 183 183 184 182 180 182\n",
            "  174 202  63  59 220 196  94   0   0   0]\n",
            " [  0   0   0   5 184 206 157   0 204 187 187 189 192 190 190 191 190 187\n",
            "  183 202  78  35 222 197  95   0   0   0]\n",
            " [  0   0   0   5 183 208 127   0 197 166 153 149 149 146 148 149 150 151\n",
            "  158 191  90   8 223 195  99   0   0   0]\n",
            " [  0   0   0   6 184 208 114   0 204 173 161 180 176 172 173 173 174 176\n",
            "  162 202 115   0 229 199 105   0   0   0]\n",
            " [  0   0   0   9 178 204 115   0 121 135 114 117 114 114 117 118 119 117\n",
            "  113 147  63   0 225 196 107   0   0   0]\n",
            " [  0   0   0  18 180 206 131   0   0   0   0   0   0   0   0   0   0   0\n",
            "    0   0   0   0 224 197 123   0   0   0]\n",
            " [  0   0   0   0 141 151  76   0   1   1   0   0   0   0   0   0   0   0\n",
            "    0   0   0   0 133 167  73   0   0   0]]\n",
            "\n",
            "\n",
            " (28, 28)\n"
          ]
        }
      ]
    },
    {
      "cell_type": "markdown",
      "source": [
        "## 5.\tPlease plot the image of the index 5 in the training dataset."
      ],
      "metadata": {
        "id": "yI3cfwVCumlw"
      }
    },
    {
      "cell_type": "code",
      "source": [
        "# display the image at index 5\n",
        "plt.imshow(train_images[5])\n",
        "plt.title(f\"Label: {train_labels[5]}\")\n",
        "plt.axis('off')  # turn off the axes\n",
        "plt.show()"
      ],
      "metadata": {
        "colab": {
          "base_uri": "https://localhost:8080/",
          "height": 428
        },
        "id": "5m7Egjcrumtu",
        "outputId": "223c6c8e-4472-4746-ce3b-30d22d72f1e1"
      },
      "execution_count": 34,
      "outputs": [
        {
          "output_type": "display_data",
          "data": {
            "text/plain": [
              "<Figure size 640x480 with 1 Axes>"
            ],
            "image/png": "[encoded data removed]"
          },
          "metadata": {}
        }
      ]
    },
    {
      "cell_type": "markdown",
      "source": [
        "## 6.\tWhat is the label for the index 5 in the train_label and looking up in the above list, what does it mean?"
      ],
      "metadata": {
        "id": "Aa4wIWQnum1X"
      }
    },
    {
      "cell_type": "code",
      "source": [
        "label_index_5 = train_labels[5]\n",
        "print(\"Label for index 5 in train_labels:\", label_index_5)\n",
        "# label 2 corresponds with pullover, so this matches"
      ],
      "metadata": {
        "colab": {
          "base_uri": "https://localhost:8080/"
        },
        "id": "EIPVnhA1um8-",
        "outputId": "27cbb43b-79fe-4af5-b617-091c3d3a75a0"
      },
      "execution_count": 35,
      "outputs": [
        {
          "output_type": "stream",
          "name": "stdout",
          "text": [
            "Label for index 5 in train_labels: 2\n"
          ]
        }
      ]
    },
    {
      "cell_type": "markdown",
      "source": [
        "## 7.\tPlease show the digital content of image index 500 in the testing dataset."
      ],
      "metadata": {
        "id": "kTO5p80iunD9"
      }
    },
    {
      "cell_type": "code",
      "source": [
        "print(train_images[500])\n",
        "# this again shows the numerical pixel values\n",
        "# and is a 2d numpy array of the shape (28 x 28)\n",
        "print(\"\\n\\n\", train_images[500].shape)"
      ],
      "metadata": {
        "colab": {
          "base_uri": "https://localhost:8080/"
        },
        "id": "3RJ0fIfFunMN",
        "outputId": "39fae72e-a02e-40a0-a6f8-fa51a72a59d3"
      },
      "execution_count": 36,
      "outputs": [
        {
          "output_type": "stream",
          "name": "stdout",
          "text": [
            "[[  0   0   0   0   0   0   0   3   0   0   0  19 204  93  35  91 227  91\n",
            "    0   0   0   3   0   0   0   0   0   0]\n",
            " [  0   0   0   0   0   0   2   0   0 134 210 237 241 241 255 245 238 241\n",
            "  248 111   0   0   3   0   0   0   0   0]\n",
            " [  0   0   0   0   0   0   0   0 175 254 235 233 232 225 227 226 229 231\n",
            "  236 250 200   0   0   0   0   0   0   0]\n",
            " [  0   0   0   0   0   0   0   2 240 229 228 219 215 235 229 234 217 198\n",
            "  222 220 255 101   0   0   0   0   0   0]\n",
            " [  0   0   0   0   0   0   0  46 246 236 189 173 212 240 226 239 210 152\n",
            "  177 222 249 170   0   0   0   0   0   0]\n",
            " [  0   0   0   0   0   0   0  97 255 233 226 231 237 230 231 231 236 241\n",
            "  232 231 245 210   0   0   0   0   0   0]\n",
            " [  0   0   0   0   0   0   0 150 252 234 239 232 228 228 229 228 228 233\n",
            "  242 236 243 233   0   0   0   0   0   0]\n",
            " [  0   0   0   0   0   0   0 195 249 234 243 234 232 231 230 230 229 234\n",
            "  242 227 239 219   0   0   0   0   0   0]\n",
            " [  0   0   0   0   0   0   0 228 248 220 229 246 230 231 231 231 229 244\n",
            "  231 163 243 238   0   0   0   0   0   0]\n",
            " [  0   0   0   0   0   0   0 224 245 207 184 253 227 228 229 230 226 255\n",
            "  193 116 247 241  47   0   0   0   0   0]\n",
            " [  0   0   0   0   0   0  19 240 247 189 146 255 227 231 231 232 227 255\n",
            "  178 114 250 243 103   0   0   0   0   0]\n",
            " [  0   0   0   0   0   0  61 243 246 173 132 255 224 228 231 232 224 255\n",
            "  156  80 255 245 134   0   0   0   0   0]\n",
            " [  0   0   0   0   0   0 107 247 245 175 190 254 229 230 225 226 228 255\n",
            "  204 121 255 243 158   0   0   0   0   0]\n",
            " [  0   0   0   0   0   0 141 248 241 214 229 240 236 237 235 236 236 255\n",
            "  218 123 255 249 181   0   0   0   0   0]\n",
            " [  0   0   0   0   0   0 167 255 243 243 236 235 235 231 234 235 231 232\n",
            "  236 195 255 251 185   0   0   0   0   0]\n",
            " [  0   0   0   0   0   0 186 254 247 238 228 225 228 228 229 231 228 223\n",
            "  231 255 252 248 200   0   0   0   0   0]\n",
            " [  0   0   0   0   0   0 206 251 252 234 229 227 229 230 230 232 231 227\n",
            "  227 239 251 247 210   0   0   0   0   0]\n",
            " [  0   0   0   0   0   0 218 248 254 233 232 232 233 233 233 235 233 233\n",
            "  235 240 252 251 211   0   0   0   0   0]\n",
            " [  0   0   0   0   0   0 224 245 252 236 238 236 238 238 238 239 238 238\n",
            "  237 236 250 251 222   0   0   0   0   0]\n",
            " [  0   0   0   0   0   0 225 240 244 234 229 230 232 232 230 230 231 230\n",
            "  232 235 245 241 226   0   0   0   0   0]\n",
            " [  0   0   0   0   0   0 238 255 248 234 236 236 237 237 236 236 236 234\n",
            "  235 237 252 255 233   0   0   0   0   0]\n",
            " [  0   0   0   0   0   0  56  32 158 248 228 236 237 237 237 237 237 236\n",
            "  231 248 140  40  31   0   0   0   0   0]\n",
            " [  0   0   0   0   0   0   0   0 138 254 229 235 234 234 235 235 236 235\n",
            "  232 255  98   0   0   0   0   0   0   0]\n",
            " [  0   0   0   0   0   0   4   0 178 255 235 241 239 240 241 241 241 238\n",
            "  233 255 139   0   5   0   0   0   0   0]\n",
            " [  0   0   0   0   0   0   0   0 180 254 233 237 237 237 238 239 239 236\n",
            "  233 255 142   0   2   0   0   0   0   0]\n",
            " [  0   0   0   0   0   0   0   0 178 254 229 232 232 233 236 236 234 233\n",
            "  230 255 149   0   4   0   0   0   0   0]\n",
            " [  0   0   0   0   0   0   1   0 179 255 234 247 237 235 237 241 240 244\n",
            "  237 255 176   0   2   0   0   0   0   0]\n",
            " [  0   0   0   0   0   0   0   0 155 238 200 184 215 221 211 216 215 216\n",
            "  191 207 153   0   0   0   0   0   0   0]]\n",
            "\n",
            "\n",
            " (28, 28)\n"
          ]
        }
      ]
    },
    {
      "cell_type": "markdown",
      "source": [
        "## 8.\tPlease plot the image of the index 500 in the testing dataset."
      ],
      "metadata": {
        "id": "tBFyvOdNwfDb"
      }
    },
    {
      "cell_type": "code",
      "source": [
        "# display the image at index 500\n",
        "plt.imshow(train_images[500])\n",
        "plt.title(f\"Label: {train_labels[500]}\") # this is label 3, so a dress and I can see it\n",
        "plt.axis('off') # turn off the axes\n",
        "plt.show()"
      ],
      "metadata": {
        "colab": {
          "base_uri": "https://localhost:8080/",
          "height": 428
        },
        "id": "sblAJ3xzwfSd",
        "outputId": "6d1e7bd0-672b-4084-a5a0-34cede7cdf7e"
      },
      "execution_count": 37,
      "outputs": [
        {
          "output_type": "display_data",
          "data": {
            "text/plain": [
              "<Figure size 640x480 with 1 Axes>"
            ],
            "image/png": "[encoded data removed]"
          },
          "metadata": {}
        }
      ]
    },
    {
      "cell_type": "markdown",
      "source": [
        "### 9.\tWhat is the label for the index 500 in the test_label and looking up in the above list, what does it mean?"
      ],
      "metadata": {
        "id": "NBgsAgSIwfYb"
      }
    },
    {
      "cell_type": "code",
      "source": [
        "label_index_500 = train_labels[500]\n",
        "print(\"Label for index 500 in train_labels:\", label_index_500)\n",
        "# label 3 corresponds with dress, so this matches"
      ],
      "metadata": {
        "colab": {
          "base_uri": "https://localhost:8080/"
        },
        "id": "O4bT0_Z6wfeu",
        "outputId": "dd98db93-542e-43ed-bdfe-34dbb45e8cf5"
      },
      "execution_count": 38,
      "outputs": [
        {
          "output_type": "stream",
          "name": "stdout",
          "text": [
            "Label for index 500 in train_labels: 3\n"
          ]
        }
      ]
    },
    {
      "cell_type": "markdown",
      "source": [
        "## 10.\tPlease import models and layers from the keras library."
      ],
      "metadata": {
        "id": "7maVm4fKwfkO"
      }
    },
    {
      "cell_type": "code",
      "source": [
        "# normally we would do this at the top of the notebook but we will make an exception just to keep everything in order\n",
        "from keras import models, layers"
      ],
      "metadata": {
        "id": "D7tEoBYCwfqp"
      },
      "execution_count": 39,
      "outputs": []
    },
    {
      "cell_type": "markdown",
      "source": [
        "## 11.\tDefine a sequential model and call it myNetwork."
      ],
      "metadata": {
        "id": "K8HS01nxwfyP"
      }
    },
    {
      "cell_type": "code",
      "source": [
        "myNetwork = models.Sequential() # this initializes a sequential model, allows us to stack layers one after the other in a linear way"
      ],
      "metadata": {
        "id": "ZlAr1-FVwf4_"
      },
      "execution_count": 40,
      "outputs": []
    },
    {
      "cell_type": "markdown",
      "source": [
        "## 12.\tReshape the images from 28x28 to one column with 784 neurons (flattening)"
      ],
      "metadata": {
        "id": "ZIux5kFPwf-_"
      }
    },
    {
      "cell_type": "code",
      "source": [
        "myNetwork.add(layers.Flatten(input_shape=(28, 28))) # transforms the 2d array (28 x 28) into a 1d array (784, )\n",
        "\n",
        "myNetwork.summary() # summary() method to verify the layers output shape (None, 784) none indicating the batch size\n",
        "\n",
        "# (784, ) describes the shape of ONE image\n",
        "# whereas (None, 784) describes the flattened shape of a BATCH of images"
      ],
      "metadata": {
        "colab": {
          "base_uri": "https://localhost:8080/",
          "height": 166
        },
        "id": "IMCeQHCHwgEs",
        "outputId": "3ceea93b-ffd0-45c7-8918-0940fad9bd34"
      },
      "execution_count": 41,
      "outputs": [
        {
          "output_type": "display_data",
          "data": {
            "text/plain": [
              "\u001b[1mModel: \"sequential_1\"\u001b[0m\n"
            ],
            "text/html": [
              "<pre style=\"white-space:pre;overflow-x:auto;line-height:normal;font-family:Menlo,'DejaVu Sans Mono',consolas,'Courier New',monospace\"><span style=\"font-weight: bold\">Model: \"sequential_1\"</span>\n",
              "</pre>\n"
            ]
          },
          "metadata": {}
        },
        {
          "output_type": "display_data",
          "data": {
            "text/plain": [
              "┏━━━━━━━━━━━━━━━━━━━━━━━━━━━━━━━━━━━━━━┳━━━━━━━━━━━━━━━━━━━━━━━━━━━━━┳━━━━━━━━━━━━━━━━━┓\n",
              "┃\u001b[1m \u001b[0m\u001b[1mLayer (type)                        \u001b[0m\u001b[1m \u001b[0m┃\u001b[1m \u001b[0m\u001b[1mOutput Shape               \u001b[0m\u001b[1m \u001b[0m┃\u001b[1m \u001b[0m\u001b[1m        Param #\u001b[0m\u001b[1m \u001b[0m┃\n",
              "┡━━━━━━━━━━━━━━━━━━━━━━━━━━━━━━━━━━━━━━╇━━━━━━━━━━━━━━━━━━━━━━━━━━━━━╇━━━━━━━━━━━━━━━━━┩\n",
              "│ flatten_1 (\u001b[38;5;33mFlatten\u001b[0m)                  │ (\u001b[38;5;45mNone\u001b[0m, \u001b[38;5;34m784\u001b[0m)                 │               \u001b[38;5;34m0\u001b[0m │\n",
              "└──────────────────────────────────────┴─────────────────────────────┴─────────────────┘\n"
            ],
            "text/html": [
              "<pre style=\"white-space:pre;overflow-x:auto;line-height:normal;font-family:Menlo,'DejaVu Sans Mono',consolas,'Courier New',monospace\">┏━━━━━━━━━━━━━━━━━━━━━━━━━━━━━━━━━━━━━━┳━━━━━━━━━━━━━━━━━━━━━━━━━━━━━┳━━━━━━━━━━━━━━━━━┓\n",
              "┃<span style=\"font-weight: bold\"> Layer (type)                         </span>┃<span style=\"font-weight: bold\"> Output Shape                </span>┃<span style=\"font-weight: bold\">         Param # </span>┃\n",
              "┡━━━━━━━━━━━━━━━━━━━━━━━━━━━━━━━━━━━━━━╇━━━━━━━━━━━━━━━━━━━━━━━━━━━━━╇━━━━━━━━━━━━━━━━━┩\n",
              "│ flatten_1 (<span style=\"color: #0087ff; text-decoration-color: #0087ff\">Flatten</span>)                  │ (<span style=\"color: #00d7ff; text-decoration-color: #00d7ff\">None</span>, <span style=\"color: #00af00; text-decoration-color: #00af00\">784</span>)                 │               <span style=\"color: #00af00; text-decoration-color: #00af00\">0</span> │\n",
              "└──────────────────────────────────────┴─────────────────────────────┴─────────────────┘\n",
              "</pre>\n"
            ]
          },
          "metadata": {}
        },
        {
          "output_type": "display_data",
          "data": {
            "text/plain": [
              "\u001b[1m Total params: \u001b[0m\u001b[38;5;34m0\u001b[0m (0.00 B)\n"
            ],
            "text/html": [
              "<pre style=\"white-space:pre;overflow-x:auto;line-height:normal;font-family:Menlo,'DejaVu Sans Mono',consolas,'Courier New',monospace\"><span style=\"font-weight: bold\"> Total params: </span><span style=\"color: #00af00; text-decoration-color: #00af00\">0</span> (0.00 B)\n",
              "</pre>\n"
            ]
          },
          "metadata": {}
        },
        {
          "output_type": "display_data",
          "data": {
            "text/plain": [
              "\u001b[1m Trainable params: \u001b[0m\u001b[38;5;34m0\u001b[0m (0.00 B)\n"
            ],
            "text/html": [
              "<pre style=\"white-space:pre;overflow-x:auto;line-height:normal;font-family:Menlo,'DejaVu Sans Mono',consolas,'Courier New',monospace\"><span style=\"font-weight: bold\"> Trainable params: </span><span style=\"color: #00af00; text-decoration-color: #00af00\">0</span> (0.00 B)\n",
              "</pre>\n"
            ]
          },
          "metadata": {}
        },
        {
          "output_type": "display_data",
          "data": {
            "text/plain": [
              "\u001b[1m Non-trainable params: \u001b[0m\u001b[38;5;34m0\u001b[0m (0.00 B)\n"
            ],
            "text/html": [
              "<pre style=\"white-space:pre;overflow-x:auto;line-height:normal;font-family:Menlo,'DejaVu Sans Mono',consolas,'Courier New',monospace\"><span style=\"font-weight: bold\"> Non-trainable params: </span><span style=\"color: #00af00; text-decoration-color: #00af00\">0</span> (0.00 B)\n",
              "</pre>\n"
            ]
          },
          "metadata": {}
        }
      ]
    },
    {
      "cell_type": "markdown",
      "source": [
        "## 13.\tAlso, please normalize the image by dividing the image by 255"
      ],
      "metadata": {
        "id": "iHQ3XNyZwgKz"
      }
    },
    {
      "cell_type": "code",
      "source": [
        "train_images = train_images / 255.0\n",
        "test_images = test_images / 255.0\n",
        "\n",
        "# here we are diving the images by 255 because that is the pixel value range\n",
        "# by divinging by 255, the values are being scaled down to a range between 0 to 1\n",
        "# this helps speed up training and improves the model's convergence because NN's perform better when the input data is scaled to a much smaller range\n",
        "\n",
        "# to confirm the minimum and maximum values in train_images and test_images\n",
        "print(\"Train images - Min value:\", train_images.min(), \"Max value:\", train_images.max())\n",
        "print(\"Test images - Min value:\", test_images.min(), \"Max value:\", test_images.max())"
      ],
      "metadata": {
        "colab": {
          "base_uri": "https://localhost:8080/"
        },
        "id": "IK4YWNUtwgRG",
        "outputId": "a9a47f7c-a9c4-462b-f4fe-d322549ab444"
      },
      "execution_count": 42,
      "outputs": [
        {
          "output_type": "stream",
          "name": "stdout",
          "text": [
            "Train images - Min value: 0.0 Max value: 1.0\n",
            "Test images - Min value: 0.0 Max value: 1.0\n"
          ]
        }
      ]
    },
    {
      "cell_type": "markdown",
      "source": [
        "## 14.\tAdd one hidden layer that has 512 neurons, using the ‘relu’ activation function."
      ],
      "metadata": {
        "id": "XYm_qF8XwgW7"
      }
    },
    {
      "cell_type": "code",
      "source": [
        "myNetwork.add(layers.Dense(512, activation='relu'))\n",
        "\n",
        "myNetwork.summary() # just to show the added layer"
      ],
      "metadata": {
        "colab": {
          "base_uri": "https://localhost:8080/",
          "height": 199
        },
        "id": "3RB2Tc9Gw__C",
        "outputId": "4f5cf53a-7d64-43aa-a015-0dc6d718c7f4"
      },
      "execution_count": 43,
      "outputs": [
        {
          "output_type": "display_data",
          "data": {
            "text/plain": [
              "\u001b[1mModel: \"sequential_1\"\u001b[0m\n"
            ],
            "text/html": [
              "<pre style=\"white-space:pre;overflow-x:auto;line-height:normal;font-family:Menlo,'DejaVu Sans Mono',consolas,'Courier New',monospace\"><span style=\"font-weight: bold\">Model: \"sequential_1\"</span>\n",
              "</pre>\n"
            ]
          },
          "metadata": {}
        },
        {
          "output_type": "display_data",
          "data": {
            "text/plain": [
              "┏━━━━━━━━━━━━━━━━━━━━━━━━━━━━━━━━━━━━━━┳━━━━━━━━━━━━━━━━━━━━━━━━━━━━━┳━━━━━━━━━━━━━━━━━┓\n",
              "┃\u001b[1m \u001b[0m\u001b[1mLayer (type)                        \u001b[0m\u001b[1m \u001b[0m┃\u001b[1m \u001b[0m\u001b[1mOutput Shape               \u001b[0m\u001b[1m \u001b[0m┃\u001b[1m \u001b[0m\u001b[1m        Param #\u001b[0m\u001b[1m \u001b[0m┃\n",
              "┡━━━━━━━━━━━━━━━━━━━━━━━━━━━━━━━━━━━━━━╇━━━━━━━━━━━━━━━━━━━━━━━━━━━━━╇━━━━━━━━━━━━━━━━━┩\n",
              "│ flatten_1 (\u001b[38;5;33mFlatten\u001b[0m)                  │ (\u001b[38;5;45mNone\u001b[0m, \u001b[38;5;34m784\u001b[0m)                 │               \u001b[38;5;34m0\u001b[0m │\n",
              "├──────────────────────────────────────┼─────────────────────────────┼─────────────────┤\n",
              "│ dense_3 (\u001b[38;5;33mDense\u001b[0m)                      │ (\u001b[38;5;45mNone\u001b[0m, \u001b[38;5;34m512\u001b[0m)                 │         \u001b[38;5;34m401,920\u001b[0m │\n",
              "└──────────────────────────────────────┴─────────────────────────────┴─────────────────┘\n"
            ],
            "text/html": [
              "<pre style=\"white-space:pre;overflow-x:auto;line-height:normal;font-family:Menlo,'DejaVu Sans Mono',consolas,'Courier New',monospace\">┏━━━━━━━━━━━━━━━━━━━━━━━━━━━━━━━━━━━━━━┳━━━━━━━━━━━━━━━━━━━━━━━━━━━━━┳━━━━━━━━━━━━━━━━━┓\n",
              "┃<span style=\"font-weight: bold\"> Layer (type)                         </span>┃<span style=\"font-weight: bold\"> Output Shape                </span>┃<span style=\"font-weight: bold\">         Param # </span>┃\n",
              "┡━━━━━━━━━━━━━━━━━━━━━━━━━━━━━━━━━━━━━━╇━━━━━━━━━━━━━━━━━━━━━━━━━━━━━╇━━━━━━━━━━━━━━━━━┩\n",
              "│ flatten_1 (<span style=\"color: #0087ff; text-decoration-color: #0087ff\">Flatten</span>)                  │ (<span style=\"color: #00d7ff; text-decoration-color: #00d7ff\">None</span>, <span style=\"color: #00af00; text-decoration-color: #00af00\">784</span>)                 │               <span style=\"color: #00af00; text-decoration-color: #00af00\">0</span> │\n",
              "├──────────────────────────────────────┼─────────────────────────────┼─────────────────┤\n",
              "│ dense_3 (<span style=\"color: #0087ff; text-decoration-color: #0087ff\">Dense</span>)                      │ (<span style=\"color: #00d7ff; text-decoration-color: #00d7ff\">None</span>, <span style=\"color: #00af00; text-decoration-color: #00af00\">512</span>)                 │         <span style=\"color: #00af00; text-decoration-color: #00af00\">401,920</span> │\n",
              "└──────────────────────────────────────┴─────────────────────────────┴─────────────────┘\n",
              "</pre>\n"
            ]
          },
          "metadata": {}
        },
        {
          "output_type": "display_data",
          "data": {
            "text/plain": [
              "\u001b[1m Total params: \u001b[0m\u001b[38;5;34m401,920\u001b[0m (1.53 MB)\n"
            ],
            "text/html": [
              "<pre style=\"white-space:pre;overflow-x:auto;line-height:normal;font-family:Menlo,'DejaVu Sans Mono',consolas,'Courier New',monospace\"><span style=\"font-weight: bold\"> Total params: </span><span style=\"color: #00af00; text-decoration-color: #00af00\">401,920</span> (1.53 MB)\n",
              "</pre>\n"
            ]
          },
          "metadata": {}
        },
        {
          "output_type": "display_data",
          "data": {
            "text/plain": [
              "\u001b[1m Trainable params: \u001b[0m\u001b[38;5;34m401,920\u001b[0m (1.53 MB)\n"
            ],
            "text/html": [
              "<pre style=\"white-space:pre;overflow-x:auto;line-height:normal;font-family:Menlo,'DejaVu Sans Mono',consolas,'Courier New',monospace\"><span style=\"font-weight: bold\"> Trainable params: </span><span style=\"color: #00af00; text-decoration-color: #00af00\">401,920</span> (1.53 MB)\n",
              "</pre>\n"
            ]
          },
          "metadata": {}
        },
        {
          "output_type": "display_data",
          "data": {
            "text/plain": [
              "\u001b[1m Non-trainable params: \u001b[0m\u001b[38;5;34m0\u001b[0m (0.00 B)\n"
            ],
            "text/html": [
              "<pre style=\"white-space:pre;overflow-x:auto;line-height:normal;font-family:Menlo,'DejaVu Sans Mono',consolas,'Courier New',monospace\"><span style=\"font-weight: bold\"> Non-trainable params: </span><span style=\"color: #00af00; text-decoration-color: #00af00\">0</span> (0.00 B)\n",
              "</pre>\n"
            ]
          },
          "metadata": {}
        }
      ]
    },
    {
      "cell_type": "markdown",
      "source": [
        "## 15.\tAdd another hidden layer that has 128 neurons, using the ‘relu’ activation function."
      ],
      "metadata": {
        "id": "FkbKafHJxAMd"
      }
    },
    {
      "cell_type": "code",
      "source": [
        "myNetwork.add(layers.Dense(128, activation='relu'))\n",
        "\n",
        "myNetwork.summary() # just to show the added layer\n",
        "\n",
        "# these layers help the network learn complex patterns in the flattened image data by progressively extracting and refining\n",
        "# features, preparing them for classification in later layers.\n",
        "\n",
        "# The first layer (512 neurons) acts as a feature extractor, learning a wide variety of patterns from the flattened input data.\n",
        "# The second layer (128 neurons) refines these features, focusing on the most relevant ones for classification"
      ],
      "metadata": {
        "colab": {
          "base_uri": "https://localhost:8080/",
          "height": 232
        },
        "id": "S8m8nn6RxAUV",
        "outputId": "3710ecd0-4864-4bd8-c5f2-e83170c761c6"
      },
      "execution_count": 44,
      "outputs": [
        {
          "output_type": "display_data",
          "data": {
            "text/plain": [
              "\u001b[1mModel: \"sequential_1\"\u001b[0m\n"
            ],
            "text/html": [
              "<pre style=\"white-space:pre;overflow-x:auto;line-height:normal;font-family:Menlo,'DejaVu Sans Mono',consolas,'Courier New',monospace\"><span style=\"font-weight: bold\">Model: \"sequential_1\"</span>\n",
              "</pre>\n"
            ]
          },
          "metadata": {}
        },
        {
          "output_type": "display_data",
          "data": {
            "text/plain": [
              "┏━━━━━━━━━━━━━━━━━━━━━━━━━━━━━━━━━━━━━━┳━━━━━━━━━━━━━━━━━━━━━━━━━━━━━┳━━━━━━━━━━━━━━━━━┓\n",
              "┃\u001b[1m \u001b[0m\u001b[1mLayer (type)                        \u001b[0m\u001b[1m \u001b[0m┃\u001b[1m \u001b[0m\u001b[1mOutput Shape               \u001b[0m\u001b[1m \u001b[0m┃\u001b[1m \u001b[0m\u001b[1m        Param #\u001b[0m\u001b[1m \u001b[0m┃\n",
              "┡━━━━━━━━━━━━━━━━━━━━━━━━━━━━━━━━━━━━━━╇━━━━━━━━━━━━━━━━━━━━━━━━━━━━━╇━━━━━━━━━━━━━━━━━┩\n",
              "│ flatten_1 (\u001b[38;5;33mFlatten\u001b[0m)                  │ (\u001b[38;5;45mNone\u001b[0m, \u001b[38;5;34m784\u001b[0m)                 │               \u001b[38;5;34m0\u001b[0m │\n",
              "├──────────────────────────────────────┼─────────────────────────────┼─────────────────┤\n",
              "│ dense_3 (\u001b[38;5;33mDense\u001b[0m)                      │ (\u001b[38;5;45mNone\u001b[0m, \u001b[38;5;34m512\u001b[0m)                 │         \u001b[38;5;34m401,920\u001b[0m │\n",
              "├──────────────────────────────────────┼─────────────────────────────┼─────────────────┤\n",
              "│ dense_4 (\u001b[38;5;33mDense\u001b[0m)                      │ (\u001b[38;5;45mNone\u001b[0m, \u001b[38;5;34m128\u001b[0m)                 │          \u001b[38;5;34m65,664\u001b[0m │\n",
              "└──────────────────────────────────────┴─────────────────────────────┴─────────────────┘\n"
            ],
            "text/html": [
              "<pre style=\"white-space:pre;overflow-x:auto;line-height:normal;font-family:Menlo,'DejaVu Sans Mono',consolas,'Courier New',monospace\">┏━━━━━━━━━━━━━━━━━━━━━━━━━━━━━━━━━━━━━━┳━━━━━━━━━━━━━━━━━━━━━━━━━━━━━┳━━━━━━━━━━━━━━━━━┓\n",
              "┃<span style=\"font-weight: bold\"> Layer (type)                         </span>┃<span style=\"font-weight: bold\"> Output Shape                </span>┃<span style=\"font-weight: bold\">         Param # </span>┃\n",
              "┡━━━━━━━━━━━━━━━━━━━━━━━━━━━━━━━━━━━━━━╇━━━━━━━━━━━━━━━━━━━━━━━━━━━━━╇━━━━━━━━━━━━━━━━━┩\n",
              "│ flatten_1 (<span style=\"color: #0087ff; text-decoration-color: #0087ff\">Flatten</span>)                  │ (<span style=\"color: #00d7ff; text-decoration-color: #00d7ff\">None</span>, <span style=\"color: #00af00; text-decoration-color: #00af00\">784</span>)                 │               <span style=\"color: #00af00; text-decoration-color: #00af00\">0</span> │\n",
              "├──────────────────────────────────────┼─────────────────────────────┼─────────────────┤\n",
              "│ dense_3 (<span style=\"color: #0087ff; text-decoration-color: #0087ff\">Dense</span>)                      │ (<span style=\"color: #00d7ff; text-decoration-color: #00d7ff\">None</span>, <span style=\"color: #00af00; text-decoration-color: #00af00\">512</span>)                 │         <span style=\"color: #00af00; text-decoration-color: #00af00\">401,920</span> │\n",
              "├──────────────────────────────────────┼─────────────────────────────┼─────────────────┤\n",
              "│ dense_4 (<span style=\"color: #0087ff; text-decoration-color: #0087ff\">Dense</span>)                      │ (<span style=\"color: #00d7ff; text-decoration-color: #00d7ff\">None</span>, <span style=\"color: #00af00; text-decoration-color: #00af00\">128</span>)                 │          <span style=\"color: #00af00; text-decoration-color: #00af00\">65,664</span> │\n",
              "└──────────────────────────────────────┴─────────────────────────────┴─────────────────┘\n",
              "</pre>\n"
            ]
          },
          "metadata": {}
        },
        {
          "output_type": "display_data",
          "data": {
            "text/plain": [
              "\u001b[1m Total params: \u001b[0m\u001b[38;5;34m467,584\u001b[0m (1.78 MB)\n"
            ],
            "text/html": [
              "<pre style=\"white-space:pre;overflow-x:auto;line-height:normal;font-family:Menlo,'DejaVu Sans Mono',consolas,'Courier New',monospace\"><span style=\"font-weight: bold\"> Total params: </span><span style=\"color: #00af00; text-decoration-color: #00af00\">467,584</span> (1.78 MB)\n",
              "</pre>\n"
            ]
          },
          "metadata": {}
        },
        {
          "output_type": "display_data",
          "data": {
            "text/plain": [
              "\u001b[1m Trainable params: \u001b[0m\u001b[38;5;34m467,584\u001b[0m (1.78 MB)\n"
            ],
            "text/html": [
              "<pre style=\"white-space:pre;overflow-x:auto;line-height:normal;font-family:Menlo,'DejaVu Sans Mono',consolas,'Courier New',monospace\"><span style=\"font-weight: bold\"> Trainable params: </span><span style=\"color: #00af00; text-decoration-color: #00af00\">467,584</span> (1.78 MB)\n",
              "</pre>\n"
            ]
          },
          "metadata": {}
        },
        {
          "output_type": "display_data",
          "data": {
            "text/plain": [
              "\u001b[1m Non-trainable params: \u001b[0m\u001b[38;5;34m0\u001b[0m (0.00 B)\n"
            ],
            "text/html": [
              "<pre style=\"white-space:pre;overflow-x:auto;line-height:normal;font-family:Menlo,'DejaVu Sans Mono',consolas,'Courier New',monospace\"><span style=\"font-weight: bold\"> Non-trainable params: </span><span style=\"color: #00af00; text-decoration-color: #00af00\">0</span> (0.00 B)\n",
              "</pre>\n"
            ]
          },
          "metadata": {}
        }
      ]
    },
    {
      "cell_type": "markdown",
      "source": [
        "## 16.\tAdd the last layer as a 10-neuron dense layer that uses the ‘softmax’ as the activation function. Why do we use softmax for the last layer? How does it work under the hood? Make sure to explain this in your video."
      ],
      "metadata": {
        "id": "khxQCtDExAb9"
      }
    },
    {
      "cell_type": "code",
      "source": [
        "myNetwork.add(layers.Dense(10, activation='softmax'))\n",
        "\n",
        "# we use softmax in the last layer because it converts raw scores into probabilities that sum to 1, making the\n",
        "# output interpretable for multi-class classification\n",
        "\n",
        "# softmax works by exponentiating each score, normalizing by the sum of all exponentials, and returning\n",
        "# probabilities for each class. The class with the highest probability is chosen as the model's prediction"
      ],
      "metadata": {
        "id": "G8nJjqSDxAiD"
      },
      "execution_count": 45,
      "outputs": []
    },
    {
      "cell_type": "markdown",
      "source": [
        "![softmax.webp](data:image/webp;base64,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)"
      ],
      "metadata": {
        "id": "RJGV0F3KPHSR"
      }
    },
    {
      "cell_type": "markdown",
      "source": [
        "## 17.\tUse the following two settings for the compiler and run them separately and see what the differences are.\n",
        "\n",
        "Option A\n",
        "\n",
        "i.\tOptimizer: adam\n",
        "\n",
        "ii.\tloss: 'sparse_categorical_crossentropy'\n",
        "\n",
        "iii.\tmetrics: [‘accuracy’]\n",
        "\n",
        "Option B\n",
        "\n",
        "i.\tOptimizer: rmsprop\n",
        "\n",
        "ii.\tloss: 'categorical_crossentropy'\n",
        "\n",
        "iii.\tmetrics: [‘accuracy’]\n"
      ],
      "metadata": {
        "id": "S6rQZzqHxAoU"
      }
    },
    {
      "cell_type": "code",
      "source": [
        "# OPTION A\n",
        "myNetwork.compile(\n",
        "    optimizer='adam',\n",
        "    loss='sparse_categorical_crossentropy',\n",
        "    metrics=['accuracy']\n",
        ")\n",
        "\n",
        "# train the model\n",
        "option_a = myNetwork.fit(train_images, train_labels, epochs=5, validation_data=(test_images, test_labels))"
      ],
      "metadata": {
        "colab": {
          "base_uri": "https://localhost:8080/"
        },
        "id": "ZvwgcekSxAt5",
        "outputId": "ea18e20f-c3b1-42ff-d069-7077d4b0c573"
      },
      "execution_count": 46,
      "outputs": [
        {
          "output_type": "stream",
          "name": "stdout",
          "text": [
            "Epoch 1/5\n",
            "\u001b[1m1875/1875\u001b[0m \u001b[32m━━━━━━━━━━━━━━━━━━━━\u001b[0m\u001b[37m\u001b[0m \u001b[1m30s\u001b[0m 13ms/step - accuracy: 0.7884 - loss: 0.5895 - val_accuracy: 0.8415 - val_loss: 0.4331\n",
            "Epoch 2/5\n",
            "\u001b[1m1875/1875\u001b[0m \u001b[32m━━━━━━━━━━━━━━━━━━━━\u001b[0m\u001b[37m\u001b[0m \u001b[1m34s\u001b[0m 9ms/step - accuracy: 0.8645 - loss: 0.3683 - val_accuracy: 0.8602 - val_loss: 0.3819\n",
            "Epoch 3/5\n",
            "\u001b[1m1875/1875\u001b[0m \u001b[32m━━━━━━━━━━━━━━━━━━━━\u001b[0m\u001b[37m\u001b[0m \u001b[1m20s\u001b[0m 9ms/step - accuracy: 0.8781 - loss: 0.3234 - val_accuracy: 0.8660 - val_loss: 0.3704\n",
            "Epoch 4/5\n",
            "\u001b[1m1875/1875\u001b[0m \u001b[32m━━━━━━━━━━━━━━━━━━━━\u001b[0m\u001b[37m\u001b[0m \u001b[1m21s\u001b[0m 9ms/step - accuracy: 0.8905 - loss: 0.2962 - val_accuracy: 0.8753 - val_loss: 0.3398\n",
            "Epoch 5/5\n",
            "\u001b[1m1875/1875\u001b[0m \u001b[32m━━━━━━━━━━━━━━━━━━━━\u001b[0m\u001b[37m\u001b[0m \u001b[1m23s\u001b[0m 10ms/step - accuracy: 0.8986 - loss: 0.2718 - val_accuracy: 0.8765 - val_loss: 0.3407\n"
          ]
        }
      ]
    },
    {
      "cell_type": "code",
      "source": [
        "# OPTION B\n",
        "\n",
        "# we need to convert the labels to one-hot encoding first as categoorical_crossentropy expects the labels in this format\n",
        "from tensorflow.keras.utils import to_categorical\n",
        "train_labels_one_hot = to_categorical(train_labels, num_classes=10)\n",
        "test_labels_one_hot = to_categorical(test_labels, num_classes=10)\n",
        "\n",
        "# now we can compile\n",
        "myNetwork.compile(\n",
        "    optimizer='rmsprop',\n",
        "    loss='categorical_crossentropy',\n",
        "    metrics=['accuracy']\n",
        ")\n",
        "\n",
        "# train the model\n",
        "option_b = myNetwork.fit(train_images, train_labels_one_hot, epochs=5, validation_data=(test_images, test_labels_one_hot))"
      ],
      "metadata": {
        "colab": {
          "base_uri": "https://localhost:8080/"
        },
        "id": "F-63ojNQPwSH",
        "outputId": "6d43d9ce-dfad-45f3-8cd6-63f73bbc9d2a"
      },
      "execution_count": 47,
      "outputs": [
        {
          "output_type": "stream",
          "name": "stdout",
          "text": [
            "Epoch 1/5\n",
            "\u001b[1m1875/1875\u001b[0m \u001b[32m━━━━━━━━━━━━━━━━━━━━\u001b[0m\u001b[37m\u001b[0m \u001b[1m17s\u001b[0m 8ms/step - accuracy: 0.9020 - loss: 0.2611 - val_accuracy: 0.8682 - val_loss: 0.3893\n",
            "Epoch 2/5\n",
            "\u001b[1m1875/1875\u001b[0m \u001b[32m━━━━━━━━━━━━━━━━━━━━\u001b[0m\u001b[37m\u001b[0m \u001b[1m20s\u001b[0m 8ms/step - accuracy: 0.9010 - loss: 0.2701 - val_accuracy: 0.8769 - val_loss: 0.3747\n",
            "Epoch 3/5\n",
            "\u001b[1m1875/1875\u001b[0m \u001b[32m━━━━━━━━━━━━━━━━━━━━\u001b[0m\u001b[37m\u001b[0m \u001b[1m17s\u001b[0m 9ms/step - accuracy: 0.9033 - loss: 0.2692 - val_accuracy: 0.8775 - val_loss: 0.3902\n",
            "Epoch 4/5\n",
            "\u001b[1m1875/1875\u001b[0m \u001b[32m━━━━━━━━━━━━━━━━━━━━\u001b[0m\u001b[37m\u001b[0m \u001b[1m19s\u001b[0m 9ms/step - accuracy: 0.9030 - loss: 0.2711 - val_accuracy: 0.8839 - val_loss: 0.3929\n",
            "Epoch 5/5\n",
            "\u001b[1m1875/1875\u001b[0m \u001b[32m━━━━━━━━━━━━━━━━━━━━\u001b[0m\u001b[37m\u001b[0m \u001b[1m20s\u001b[0m 8ms/step - accuracy: 0.9052 - loss: 0.2713 - val_accuracy: 0.8817 - val_loss: 0.4141\n"
          ]
        }
      ]
    },
    {
      "cell_type": "code",
      "source": [
        "# visualize the results to compare\n",
        "plt.plot(option_a.history['accuracy'], label='Option A - Training Accuracy')\n",
        "plt.plot(option_a.history['val_accuracy'], label='Option A - Validation Accuracy')\n",
        "plt.plot(option_b.history['accuracy'], label='Option B - Training Accuracy')\n",
        "plt.plot(option_b.history['val_accuracy'], label='Option B - Validation Accuracy')\n",
        "plt.title('Training and Validation Accuracy')\n",
        "plt.xlabel('Epochs')\n",
        "plt.ylabel('Accuracy')\n",
        "plt.legend()\n",
        "plt.show()"
      ],
      "metadata": {
        "colab": {
          "base_uri": "https://localhost:8080/",
          "height": 472
        },
        "id": "ABnsUu4FQVUe",
        "outputId": "dbb9c7b4-6087-4073-facf-00ae6bbcd11a"
      },
      "execution_count": 48,
      "outputs": [
        {
          "output_type": "display_data",
          "data": {
            "text/plain": [
              "<Figure size 640x480 with 1 Axes>"
            ],
            "image/png": "[encoded data removed]"
          },
          "metadata": {}
        }
      ]
    },
    {
      "cell_type": "code",
      "source": [
        "# option A: more stable and generalizes well - more gradual learning process\n",
        "# option B: learns faster but could result in overfitting - accuracy drops at 3rd epoch"
      ],
      "metadata": {
        "id": "CbBhqM5Zc3U7"
      },
      "execution_count": 49,
      "outputs": []
    },
    {
      "cell_type": "markdown",
      "source": [
        "## 18.\tNow after the compilation, please try to find the pattern using the fit command. Set the number of epochs to 10."
      ],
      "metadata": {
        "id": "i_xWtDIExAzJ"
      }
    },
    {
      "cell_type": "code",
      "source": [
        "# since our labels are integers there is a mismatch in the train_labels and test_labels\n",
        "# ValueError: Arguments target and output must have the same rank (ndim).\n",
        "# Received: target.shape=(32,), output.shape=(32, 10)\n",
        "\n",
        "# need to use the one-hot encoded labels we created earlier in order to match them back up\n",
        "# ie. labels are integer format [0, 1, 2, ... 9]\n",
        "# categorical_crossentcopy loss function expects one-hot encoded labels ie. [0, 0, 1, 1, 0, 0 ...]\n",
        "\n",
        "results = myNetwork.fit(\n",
        "    train_images,\n",
        "    train_labels_one_hot,\n",
        "    epochs=10,\n",
        "    validation_data=(test_images, test_labels_one_hot)\n",
        ")"
      ],
      "metadata": {
        "colab": {
          "base_uri": "https://localhost:8080/"
        },
        "id": "HXew05UcxA4u",
        "outputId": "8cd927df-ac73-40ad-816f-12df08238555"
      },
      "execution_count": 50,
      "outputs": [
        {
          "output_type": "stream",
          "name": "stdout",
          "text": [
            "Epoch 1/10\n",
            "\u001b[1m1875/1875\u001b[0m \u001b[32m━━━━━━━━━━━━━━━━━━━━\u001b[0m\u001b[37m\u001b[0m \u001b[1m16s\u001b[0m 8ms/step - accuracy: 0.9056 - loss: 0.2701 - val_accuracy: 0.8737 - val_loss: 0.4506\n",
            "Epoch 2/10\n",
            "\u001b[1m1875/1875\u001b[0m \u001b[32m━━━━━━━━━━━━━━━━━━━━\u001b[0m\u001b[37m\u001b[0m \u001b[1m17s\u001b[0m 9ms/step - accuracy: 0.9062 - loss: 0.2678 - val_accuracy: 0.8806 - val_loss: 0.4396\n",
            "Epoch 3/10\n",
            "\u001b[1m1875/1875\u001b[0m \u001b[32m━━━━━━━━━━━━━━━━━━━━\u001b[0m\u001b[37m\u001b[0m \u001b[1m21s\u001b[0m 11ms/step - accuracy: 0.9087 - loss: 0.2674 - val_accuracy: 0.8809 - val_loss: 0.4168\n",
            "Epoch 4/10\n",
            "\u001b[1m1875/1875\u001b[0m \u001b[32m━━━━━━━━━━━━━━━━━━━━\u001b[0m\u001b[37m\u001b[0m \u001b[1m37s\u001b[0m 9ms/step - accuracy: 0.9091 - loss: 0.2663 - val_accuracy: 0.8790 - val_loss: 0.4736\n",
            "Epoch 5/10\n",
            "\u001b[1m1875/1875\u001b[0m \u001b[32m━━━━━━━━━━━━━━━━━━━━\u001b[0m\u001b[37m\u001b[0m \u001b[1m18s\u001b[0m 8ms/step - accuracy: 0.9091 - loss: 0.2616 - val_accuracy: 0.8704 - val_loss: 0.5245\n",
            "Epoch 6/10\n",
            "\u001b[1m1875/1875\u001b[0m \u001b[32m━━━━━━━━━━━━━━━━━━━━\u001b[0m\u001b[37m\u001b[0m \u001b[1m21s\u001b[0m 9ms/step - accuracy: 0.9077 - loss: 0.2685 - val_accuracy: 0.8800 - val_loss: 0.4799\n",
            "Epoch 7/10\n",
            "\u001b[1m1875/1875\u001b[0m \u001b[32m━━━━━━━━━━━━━━━━━━━━\u001b[0m\u001b[37m\u001b[0m \u001b[1m15s\u001b[0m 8ms/step - accuracy: 0.9139 - loss: 0.2575 - val_accuracy: 0.8850 - val_loss: 0.4792\n",
            "Epoch 8/10\n",
            "\u001b[1m1875/1875\u001b[0m \u001b[32m━━━━━━━━━━━━━━━━━━━━\u001b[0m\u001b[37m\u001b[0m \u001b[1m20s\u001b[0m 8ms/step - accuracy: 0.9124 - loss: 0.2650 - val_accuracy: 0.8622 - val_loss: 0.5596\n",
            "Epoch 9/10\n",
            "\u001b[1m1875/1875\u001b[0m \u001b[32m━━━━━━━━━━━━━━━━━━━━\u001b[0m\u001b[37m\u001b[0m \u001b[1m15s\u001b[0m 8ms/step - accuracy: 0.9131 - loss: 0.2624 - val_accuracy: 0.8742 - val_loss: 0.5461\n",
            "Epoch 10/10\n",
            "\u001b[1m1875/1875\u001b[0m \u001b[32m━━━━━━━━━━━━━━━━━━━━\u001b[0m\u001b[37m\u001b[0m \u001b[1m22s\u001b[0m 9ms/step - accuracy: 0.9127 - loss: 0.2612 - val_accuracy: 0.8775 - val_loss: 0.4782\n"
          ]
        }
      ]
    },
    {
      "cell_type": "code",
      "source": [
        "# Over the 10 epochs, the model’s training accuracy steadily improves from 90.56% to 91.27%, showing effective\n",
        "# learning. However, the validation accuracy fluctuates around 87.75%, while validation loss increases, suggesting\n",
        "# mild overfitting where the model performs better on training data than unseen test data."
      ],
      "metadata": {
        "id": "qwRC9LQ2582g"
      },
      "execution_count": 55,
      "outputs": []
    },
    {
      "cell_type": "markdown",
      "source": [
        "## 19.\tHow do you compare the fashion_MNIST with what we learned in the class using the MNIST? Explain in your video.\n",
        "\n"
      ],
      "metadata": {
        "id": "C6CCYUxQxA9e"
      }
    },
    {
      "cell_type": "code",
      "source": [
        "# MNIST contains grayscale images of handwritten digits from 0-9 and is a simpler dataset used for basic classification tasks\n",
        "# fashion MNIST - contains grayscale images of clothing items and is more complex + serves as a benchmark for more advanced classification tasks\n",
        "\n",
        "# both datasets have grayscale images of shape 28 x 28 and both need to be flattened before being input into dense layers for classification\n",
        "# both have 10 classes (MNIST - digits 0-9 --- Fashion MNIST - 10 classes for different clothing items like shirts, bags, etc.)\n",
        "\n",
        "# while both datasets require similar preprocessing, Fashion MNIST is more challenging due to the greater overlap and\n",
        "# variability in clothing item shapes, requiring the model to learn more nuanced patterns for accurate classification."
      ],
      "metadata": {
        "id": "DKO_gZSXxBC3"
      },
      "execution_count": 51,
      "outputs": []
    },
    {
      "cell_type": "markdown",
      "source": [
        "## 20.\tWhat can we infer from the differences in the accuracy? What could be the reasons for that? Explain in your video."
      ],
      "metadata": {
        "id": "f9Et0K3xxBHE"
      }
    },
    {
      "cell_type": "code",
      "source": [
        "# the differences in accuracy between the MNIST and Fashion MNIST datasets suggest that the fashion MNIST is more challenging\n",
        "# for the model to classify.\n",
        "\n",
        "# the MNIST dataset typically gets us higher accuracy scores because the task is simpler with more distinct shapes\n",
        "# the fashion MNIST may have a lower accuracy score because some items have overlapping features (t-shirts, pullovers, shirts)"
      ],
      "metadata": {
        "id": "bkcuKtZPxBMI"
      },
      "execution_count": 52,
      "outputs": []
    },
    {
      "cell_type": "markdown",
      "source": [
        "## 21.\tUse the evaluate() function from the Keras library to calculate the achieved accuracy and loss over the test images and labels. Do we have overfitting? Explain in your video."
      ],
      "metadata": {
        "id": "Sqp7lot_xBQ0"
      }
    },
    {
      "cell_type": "code",
      "source": [
        "test_loss, test_accuracy = myNetwork.evaluate(test_images, test_labels_one_hot)\n",
        "print(\"Test Loss:\", test_loss)\n",
        "print(\"Test Accuracy:\", test_accuracy)\n",
        "\n",
        "# Using the evaluate() function, the model achieved a test loss of 0.478 and a test accuracy of 88.xx%.\n",
        "# Comparing this with the training accuracy from earlier, the test accuracy is slightly lower, which is normal and indicates\n",
        "# good generalization. Since there is no significant gap between the training and test accuracy, we do not have overfitting.\n",
        "# This shows the model performs well on unseen data and has learned generalized patterns rather than just memorizing the training data."
      ],
      "metadata": {
        "colab": {
          "base_uri": "https://localhost:8080/"
        },
        "id": "PJPtahf6xBVn",
        "outputId": "59b57035-87e1-479a-ee2d-8aaccbf5c6ec"
      },
      "execution_count": 54,
      "outputs": [
        {
          "output_type": "stream",
          "name": "stdout",
          "text": [
            "\u001b[1m313/313\u001b[0m \u001b[32m━━━━━━━━━━━━━━━━━━━━\u001b[0m\u001b[37m\u001b[0m \u001b[1m1s\u001b[0m 3ms/step - accuracy: 0.8753 - loss: 0.4823\n",
            "Test Loss: 0.4782375991344452\n",
            "Test Accuracy: 0.8774999976158142\n"
          ]
        }
      ]
    }
  ]
}